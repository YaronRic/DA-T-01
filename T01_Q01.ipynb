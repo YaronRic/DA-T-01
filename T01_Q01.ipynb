{
 "cells": [
  {
   "cell_type": "code",
   "execution_count": 1,
   "id": "dc2da50e",
   "metadata": {},
   "outputs": [
    {
     "name": "stdout",
     "output_type": "stream",
     "text": [
      "19.379999999999995\n"
     ]
    }
   ],
   "source": [
    "# Q1\n",
    "def my_func(x1,x2,x3):\n",
    "    if isinstance(x1, (int, float)) and isinstance(x2, (int, float)) and isinstance(x1, (int, float)):\n",
    "        summ = x1 + x2 +x3\n",
    "        if summ == 0:\n",
    "            print('Not a number – denominator equals zero')\n",
    "        elif type(x1) == type(x2) == type(x3) == float:\n",
    "            print(summ * (x2+x3) * x3 / summ)\n",
    "        else:\n",
    "            print('Error: parameters should be float')\n",
    "    else:\n",
    "        print(None)\n",
    "\n",
    "my_func(1.2, 2.3, 3.4)"
   ]
  },
  {
   "cell_type": "code",
   "execution_count": null,
   "id": "65683307",
   "metadata": {},
   "outputs": [],
   "source": []
  }
 ],
 "metadata": {
  "kernelspec": {
   "display_name": "Python 3",
   "language": "python",
   "name": "python3"
  },
  "language_info": {
   "codemirror_mode": {
    "name": "ipython",
    "version": 3
   },
   "file_extension": ".py",
   "mimetype": "text/x-python",
   "name": "python",
   "nbconvert_exporter": "python",
   "pygments_lexer": "ipython3",
   "version": "3.6.2"
  }
 },
 "nbformat": 4,
 "nbformat_minor": 5
}
