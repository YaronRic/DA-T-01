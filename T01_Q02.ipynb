{
 "cells": [
  {
   "cell_type": "code",
   "execution_count": 1,
   "id": "70236001",
   "metadata": {},
   "outputs": [
    {
     "name": "stdout",
     "output_type": "stream",
     "text": [
      "6\n"
     ]
    }
   ],
   "source": [
    "# Q2\n",
    "def revword(word:str):\n",
    "    correct = word[::-1].lower()\n",
    "    return correct\n",
    "\n",
    "def countword():\n",
    "    file = open('text.txt')\n",
    "    f = file.readlines()\n",
    "    word = f[0].lower().rstrip()\n",
    "    f.remove(f[0])\n",
    "    count = 1\n",
    "    \n",
    "    for line in f:\n",
    "        line = revword(line).split()\n",
    "        for e in line:\n",
    "            if word == e:\n",
    "                count += 1\n",
    "    print(count)\n",
    "\n",
    "countword()"
   ]
  },
  {
   "cell_type": "code",
   "execution_count": null,
   "id": "1f3c499c",
   "metadata": {},
   "outputs": [],
   "source": []
  }
 ],
 "metadata": {
  "kernelspec": {
   "display_name": "Python 3",
   "language": "python",
   "name": "python3"
  },
  "language_info": {
   "codemirror_mode": {
    "name": "ipython",
    "version": 3
   },
   "file_extension": ".py",
   "mimetype": "text/x-python",
   "name": "python",
   "nbconvert_exporter": "python",
   "pygments_lexer": "ipython3",
   "version": "3.6.2"
  }
 },
 "nbformat": 4,
 "nbformat_minor": 5
}
